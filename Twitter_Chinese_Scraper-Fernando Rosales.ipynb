{
 "cells": [
  {
   "cell_type": "markdown",
   "id": "e858fc41",
   "metadata": {},
   "source": [
    "To Anonymize Your Python Requests With Tor, checked this: https://www.youtube.com/watch?v=wJfa0qEzpJc&t=59s"
   ]
  },
  {
   "cell_type": "markdown",
   "id": "8b3c69be",
   "metadata": {},
   "source": [
    "To get a basic understanding on how to scrape Twitter data with snscrape, this resource was very helpful: https://www.youtube.com/watch?v=QLIYJoRvd-M"
   ]
  },
  {
   "cell_type": "code",
   "execution_count": 1,
   "id": "acce1cc8",
   "metadata": {},
   "outputs": [],
   "source": [
    "import json, os, sys\n",
    "import snscrape.modules.twitter as sntwitter\n",
    "import datetime, time, requests\n",
    "from datetime import datetime \n",
    "from datetime import date\n",
    "from datetime import timedelta"
   ]
  },
  {
   "cell_type": "code",
   "execution_count": 2,
   "id": "130a4813",
   "metadata": {},
   "outputs": [],
   "source": [
    "import requests\n",
    "import time, random\n",
    "from stem import Signal\n",
    "from stem.control import Controller\n",
    "from fake_useragent import UserAgent\n",
    "import random, time"
   ]
  },
  {
   "cell_type": "code",
   "execution_count": 3,
   "id": "50713fe9",
   "metadata": {},
   "outputs": [],
   "source": [
    "language = 'lang:zh'  #set language to Chinese\n",
    "location = '36.186107, 105.163097, 2010km'"
   ]
  },
  {
   "cell_type": "code",
   "execution_count": 4,
   "id": "1d828899",
   "metadata": {},
   "outputs": [],
   "source": [
    "proxies = {\n",
    "    'http': 'socks5://127.0.0.1:9050',\n",
    "    'https': 'socks5://127.0.0.1:9050'\n",
    "}\n",
    "\n",
    "url = 'https://ident.me'"
   ]
  },
  {
   "cell_type": "code",
   "execution_count": 5,
   "id": "3f66aaf0",
   "metadata": {},
   "outputs": [
    {
     "data": {
      "text/plain": [
       "'185.243.218.32'"
      ]
     },
     "execution_count": 5,
     "metadata": {},
     "output_type": "execute_result"
    }
   ],
   "source": [
    "headers = { 'User-Agent': UserAgent().random }\n",
    "requests.get(url, proxies=proxies, headers=headers).text"
   ]
  },
  {
   "cell_type": "code",
   "execution_count": 6,
   "id": "495c7366",
   "metadata": {},
   "outputs": [],
   "source": [
    "def renew_ip():\n",
    "    with Controller.from_port(port=9051) as c:\n",
    "        c.authenticate(password='kalilinux')\n",
    "        c.signal(Signal.NEWNYM)"
   ]
  },
  {
   "cell_type": "code",
   "execution_count": 7,
   "id": "0cb2f262",
   "metadata": {},
   "outputs": [
    {
     "name": "stdout",
     "output_type": "stream",
     "text": [
      "2022-08-14 14:53:24.315933\n"
     ]
    }
   ],
   "source": [
    "current_datetime = datetime.now()\n",
    "print(current_datetime)"
   ]
  },
  {
   "cell_type": "code",
   "execution_count": 8,
   "id": "47b7c185",
   "metadata": {},
   "outputs": [
    {
     "name": "stdout",
     "output_type": "stream",
     "text": [
      "2022-08-14\n"
     ]
    }
   ],
   "source": [
    "date = date.today()\n",
    "print(date)"
   ]
  },
  {
   "cell_type": "code",
   "execution_count": 9,
   "id": "c7eae9b9",
   "metadata": {},
   "outputs": [
    {
     "name": "stdout",
     "output_type": "stream",
     "text": [
      "2022-08-14 13:53:24.315933\n"
     ]
    }
   ],
   "source": [
    "previous_hour = current_datetime - timedelta(hours=1)\n",
    "print(previous_hour)"
   ]
  },
  {
   "cell_type": "code",
   "execution_count": 12,
   "id": "aa0ff4b9",
   "metadata": {},
   "outputs": [],
   "source": [
    "Tweets = current_datetime.strftime(\"%Y%m%d-%H%M%S\") + '.json'"
   ]
  },
  {
   "cell_type": "code",
   "execution_count": 14,
   "id": "087c3600",
   "metadata": {},
   "outputs": [],
   "source": [
    " for r in range (10):\n",
    "    for i,tweet in enumerate(sntwitter.TwitterSearchScraper(language, 'since:previous_hour until:current_datetime').get_items()):\n",
    "        #if i>=500:\n",
    "        if i>=100:\n",
    "            break\n",
    "        with open(Tweets, \"a\", encoding=\"utf-8\") as f:\n",
    "            print([tweet, tweet.date, tweet.id, tweet.content, tweet.user.username], file=f)\n",
    "renew_ip()\n",
    "time.sleep(10)"
   ]
  },
  {
   "cell_type": "markdown",
   "id": "0da6b371",
   "metadata": {},
   "source": [
    "On python open():\n",
    "\n",
    "*https://www.programiz.com/python-programming/methods/built-in/open\n",
    "\n",
    "*https://stackoverflow.com/questions/19774357/how-to-open-read-write-file-and-recreate-the-file"
   ]
  },
  {
   "cell_type": "markdown",
   "id": "2aa7cc4f",
   "metadata": {},
   "source": [
    "For 'UnicodeEncodeError: 'charmap' codec can't encode characters' problem, checked this resource: https://stackoverflow.com/questions/27092833/unicodeencodeerror-charmap-codec-cant-encode-characters"
   ]
  }
 ],
 "metadata": {
  "kernelspec": {
   "display_name": "Python 3 (ipykernel)",
   "language": "python",
   "name": "python3"
  },
  "language_info": {
   "codemirror_mode": {
    "name": "ipython",
    "version": 3
   },
   "file_extension": ".py",
   "mimetype": "text/x-python",
   "name": "python",
   "nbconvert_exporter": "python",
   "pygments_lexer": "ipython3",
   "version": "3.9.7"
  }
 },
 "nbformat": 4,
 "nbformat_minor": 5
}
