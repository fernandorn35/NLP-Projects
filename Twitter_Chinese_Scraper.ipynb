{
 "cells": [
  {
   "cell_type": "code",
   "execution_count": 1,
   "id": "acce1cc8",
   "metadata": {},
   "outputs": [],
   "source": [
    "import json, os, sys\n",
    "import snscrape.modules.twitter as sntwitter\n",
    "import datetime, time, requests\n",
    "from datetime import datetime \n",
    "from datetime import date\n",
    "from datetime import timedelta"
   ]
  },
  {
   "cell_type": "code",
   "execution_count": 2,
   "id": "130a4813",
   "metadata": {},
   "outputs": [],
   "source": [
    "import requests\n",
    "import time, random\n",
    "from stem import Signal\n",
    "from stem.control import Controller\n",
    "from fake_useragent import UserAgent\n",
    "import random, time"
   ]
  },
  {
   "cell_type": "code",
   "execution_count": 7,
   "id": "50713fe9",
   "metadata": {},
   "outputs": [],
   "source": [
    "language = 'lang:zh'  #set language to Chinese\n",
    "location = '36.186107, 105.163097, 2010km'"
   ]
  },
  {
   "cell_type": "code",
   "execution_count": 8,
   "id": "1d828899",
   "metadata": {},
   "outputs": [],
   "source": [
    "proxies = {\n",
    "    'http': 'socks5://127.0.0.1:9050',\n",
    "    'https': 'socks5://127.0.0.1:9050'\n",
    "}\n",
    "\n",
    "url = 'https://ident.me'"
   ]
  },
  {
   "cell_type": "code",
   "execution_count": 23,
   "id": "3f66aaf0",
   "metadata": {},
   "outputs": [
    {
     "data": {
      "text/plain": [
       "'2a03:94e0:24c4::fefe'"
      ]
     },
     "execution_count": 23,
     "metadata": {},
     "output_type": "execute_result"
    }
   ],
   "source": [
    "headers = {'User-Agent': UserAgent().random }\n",
    "requests.get(url, proxies=proxies, headers=headers).text"
   ]
  },
  {
   "cell_type": "code",
   "execution_count": 24,
   "id": "495c7366",
   "metadata": {},
   "outputs": [],
   "source": [
    "def renew_ip():\n",
    "    with Controller.from_port(port=9051) as c:\n",
    "        c.authenticate(password='16:050FA699C211CA4D60169B9CDC762D325E24AB6E03A4EF4C53FB7A0C82')\n",
    "        c.signal(Signal.NEWNYM)"
   ]
  },
  {
   "cell_type": "code",
   "execution_count": 25,
   "id": "0cb2f262",
   "metadata": {},
   "outputs": [
    {
     "name": "stdout",
     "output_type": "stream",
     "text": [
      "2022-08-06 07:18:07.640195\n"
     ]
    }
   ],
   "source": [
    "current_datetime = datetime.now()\n",
    "print(current_datetime)"
   ]
  },
  {
   "cell_type": "code",
   "execution_count": 12,
   "id": "47b7c185",
   "metadata": {},
   "outputs": [
    {
     "name": "stdout",
     "output_type": "stream",
     "text": [
      "2022-08-05\n"
     ]
    }
   ],
   "source": [
    "date = date.today()\n",
    "print(date)"
   ]
  },
  {
   "cell_type": "code",
   "execution_count": 13,
   "id": "c7eae9b9",
   "metadata": {},
   "outputs": [
    {
     "name": "stdout",
     "output_type": "stream",
     "text": [
      "2022-08-05 14:51:44.591708\n"
     ]
    }
   ],
   "source": [
    "previous_hour = current_datetime - timedelta(hours=1)\n",
    "print(previous_hour)"
   ]
  },
  {
   "cell_type": "code",
   "execution_count": 21,
   "id": "94baff0e",
   "metadata": {},
   "outputs": [],
   "source": [
    "Tweets = \"/mnt/pub/scrape/Twitter/Chinese/ChineseTweets\" + str(date) + \".json\""
   ]
  },
  {
   "cell_type": "code",
   "execution_count": 1,
   "id": "378d279f",
   "metadata": {},
   "outputs": [
    {
     "ename": "NameError",
     "evalue": "name 'sntwitter' is not defined",
     "output_type": "error",
     "traceback": [
      "\u001b[0;31m---------------------------------------------------------------------------\u001b[0m",
      "\u001b[0;31mNameError\u001b[0m                                 Traceback (most recent call last)",
      "\u001b[0;32m/tmp/ipykernel_1909181/3373042024.py\u001b[0m in \u001b[0;36m<module>\u001b[0;34m\u001b[0m\n\u001b[1;32m      1\u001b[0m \u001b[0;32mfor\u001b[0m \u001b[0mr\u001b[0m \u001b[0;32min\u001b[0m \u001b[0mrange\u001b[0m \u001b[0;34m(\u001b[0m\u001b[0;36m10\u001b[0m\u001b[0;34m)\u001b[0m\u001b[0;34m:\u001b[0m\u001b[0;34m\u001b[0m\u001b[0;34m\u001b[0m\u001b[0m\n\u001b[0;32m----> 2\u001b[0;31m    \u001b[0;32mfor\u001b[0m \u001b[0mi\u001b[0m\u001b[0;34m,\u001b[0m\u001b[0mtweet\u001b[0m \u001b[0;32min\u001b[0m \u001b[0menumerate\u001b[0m\u001b[0;34m(\u001b[0m\u001b[0msntwitter\u001b[0m\u001b[0;34m.\u001b[0m\u001b[0mTwitterSearchScraper\u001b[0m\u001b[0;34m(\u001b[0m\u001b[0mlanguage\u001b[0m\u001b[0;34m,\u001b[0m \u001b[0;34m'since:previous_hour until:current_datetime'\u001b[0m\u001b[0;34m)\u001b[0m\u001b[0;34m.\u001b[0m\u001b[0mget_items\u001b[0m\u001b[0;34m(\u001b[0m\u001b[0;34m)\u001b[0m\u001b[0;34m)\u001b[0m\u001b[0;34m:\u001b[0m\u001b[0;34m\u001b[0m\u001b[0;34m\u001b[0m\u001b[0m\n\u001b[0m\u001b[1;32m      3\u001b[0m        \u001b[0;32mif\u001b[0m \u001b[0mi\u001b[0m\u001b[0;34m>=\u001b[0m\u001b[0;36m500\u001b[0m\u001b[0;34m:\u001b[0m\u001b[0;34m\u001b[0m\u001b[0;34m\u001b[0m\u001b[0m\n\u001b[1;32m      4\u001b[0m            \u001b[0;32mbreak\u001b[0m\u001b[0;34m\u001b[0m\u001b[0;34m\u001b[0m\u001b[0m\n\u001b[1;32m      5\u001b[0m        \u001b[0;32mwith\u001b[0m \u001b[0mopen\u001b[0m\u001b[0;34m(\u001b[0m\u001b[0mTweets\u001b[0m\u001b[0;34m,\u001b[0m \u001b[0;34m'a'\u001b[0m\u001b[0;34m)\u001b[0m \u001b[0;32mas\u001b[0m \u001b[0mf\u001b[0m\u001b[0;34m:\u001b[0m\u001b[0;34m\u001b[0m\u001b[0;34m\u001b[0m\u001b[0m\n",
      "\u001b[0;31mNameError\u001b[0m: name 'sntwitter' is not defined"
     ]
    }
   ],
   "source": [
    " for r in range (10):\n",
    "    for i,tweet in enumerate(sntwitter.TwitterSearchScraper(language, 'since:previous_hour until:current_datetime').get_items()):\n",
    "        if i>=500:\n",
    "            break\n",
    "        with open(Tweets, 'a') as f:\n",
    "            print([tweet, tweet.date, tweet.id, tweet.content, tweet.user.username], file=f)\n",
    "renew_ip()\n",
    "time.sleep(10)"
   ]
  },
  {
   "cell_type": "code",
   "execution_count": null,
   "id": "0a31ae17",
   "metadata": {},
   "outputs": [],
   "source": []
  }
 ],
 "metadata": {
  "kernelspec": {
   "display_name": "Python 3 (ipykernel)",
   "language": "python",
   "name": "python3"
  },
  "language_info": {
   "codemirror_mode": {
    "name": "ipython",
    "version": 3
   },
   "file_extension": ".py",
   "mimetype": "text/x-python",
   "name": "python",
   "nbconvert_exporter": "python",
   "pygments_lexer": "ipython3",
   "version": "3.10.5"
  }
 },
 "nbformat": 4,
 "nbformat_minor": 5
}
