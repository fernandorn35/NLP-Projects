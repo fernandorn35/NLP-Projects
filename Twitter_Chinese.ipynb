{
 "cells": [
  {
   "cell_type": "code",
   "execution_count": 2,
   "id": "22be69fb",
   "metadata": {},
   "outputs": [],
   "source": [
    "import json, os, sys\n",
    "import snscrape.modules.twitter as sntwitter\n",
    "import datetime, time, requests\n",
    "from datetime import datetime \n",
    "from datetime import date\n",
    "from datetime import timedelta\n",
    "from tqdm import tqdm"
   ]
  },
  {
   "cell_type": "code",
   "execution_count": 3,
   "id": "6340c28b",
   "metadata": {},
   "outputs": [],
   "source": [
    "import requests\n",
    "import time, random\n",
    "from stem import Signal\n",
    "from stem.control import Controller\n",
    "from fake_useragent import UserAgent\n",
    "import random, time"
   ]
  },
  {
   "cell_type": "code",
   "execution_count": 4,
   "id": "40164f80",
   "metadata": {},
   "outputs": [],
   "source": [
    "language = 'lang:zh'  #set language to Chinese\n",
    "location = '36.186107, 105.163097, 2010km'"
   ]
  },
  {
   "cell_type": "code",
   "execution_count": 5,
   "id": "0306b28f",
   "metadata": {},
   "outputs": [],
   "source": [
    "proxies = {\n",
    "    'http': 'socks5://127.0.0.1:9050',\n",
    "    'https': 'socks5://127.0.0.1:9050'\n",
    "}\n",
    "\n",
    "url = 'https://ident.me'"
   ]
  },
  {
   "cell_type": "code",
   "execution_count": 6,
   "id": "92f3ab6e",
   "metadata": {},
   "outputs": [
    {
     "data": {
      "text/plain": [
       "'2a03:4000:6:16f9:b4d0:68ff:feeb:cf35'"
      ]
     },
     "execution_count": 6,
     "metadata": {},
     "output_type": "execute_result"
    }
   ],
   "source": [
    "headers = {'User-Agent': UserAgent().random }\n",
    "requests.get(url, proxies=proxies, headers=headers).text"
   ]
  },
  {
   "cell_type": "code",
   "execution_count": 7,
   "id": "ceedb3c7",
   "metadata": {},
   "outputs": [],
   "source": [
    "def renew_ip():\n",
    "    with Controller.from_port(port=9051) as c:\n",
    "        c.authenticate('hackingChina')\n",
    "        c.signal(Signal.NEWNYM)"
   ]
  },
  {
   "cell_type": "code",
   "execution_count": 8,
   "id": "6ea3614d",
   "metadata": {},
   "outputs": [
    {
     "name": "stdout",
     "output_type": "stream",
     "text": [
      "2022-08-17 17:36:19.165388\n"
     ]
    }
   ],
   "source": [
    "current_datetime = datetime.now()\n",
    "print(current_datetime)"
   ]
  },
  {
   "cell_type": "code",
   "execution_count": 9,
   "id": "b3c46cd4",
   "metadata": {},
   "outputs": [
    {
     "name": "stdout",
     "output_type": "stream",
     "text": [
      "2022-08-17\n"
     ]
    }
   ],
   "source": [
    "date = date.today()\n",
    "print(date)"
   ]
  },
  {
   "cell_type": "code",
   "execution_count": 10,
   "id": "63a9dad2",
   "metadata": {},
   "outputs": [
    {
     "name": "stdout",
     "output_type": "stream",
     "text": [
      "2022-08-17 16:36:19.165388\n"
     ]
    }
   ],
   "source": [
    "previous_hour = current_datetime - timedelta(hours=1)\n",
    "print(previous_hour)"
   ]
  },
  {
   "cell_type": "code",
   "execution_count": 37,
   "id": "96ed320e",
   "metadata": {},
   "outputs": [],
   "source": [
    "tweet = {}\n",
    "ChineseTweets = json.dumps(tweet)"
   ]
  },
  {
   "cell_type": "code",
   "execution_count": 39,
   "id": "d16f8833",
   "metadata": {},
   "outputs": [],
   "source": [
    " for r in range (2):\n",
    "    for i,tweet in enumerate(sntwitter.TwitterSearchScraper(language, 'since:previous_hour until:current_datetime').get_items()):\n",
    "        if i>=50:\n",
    "            break\n",
    "        with open(f\"/mnt/pub/scrape/Twitter/ChineseTweets_{date}.json\", 'a') as f:\n",
    "            json.dump(ChineseTweets, f)\n",
    "                       \n",
    "renew_ip()\n",
    "time.sleep(10)"
   ]
  },
  {
   "cell_type": "code",
   "execution_count": null,
   "id": "9e812abf",
   "metadata": {},
   "outputs": [],
   "source": [
    "with open(f\"/mnt/pub/scrape/Twitter/ChineseTweets_{date}.json\", 'a') as f:\n",
    "            json.dump(tweet, f)"
   ]
  }
 ],
 "metadata": {
  "kernelspec": {
   "display_name": "Python 3 (ipykernel)",
   "language": "python",
   "name": "python3"
  },
  "language_info": {
   "codemirror_mode": {
    "name": "ipython",
    "version": 3
   },
   "file_extension": ".py",
   "mimetype": "text/x-python",
   "name": "python",
   "nbconvert_exporter": "python",
   "pygments_lexer": "ipython3",
   "version": "3.10.5"
  }
 },
 "nbformat": 4,
 "nbformat_minor": 5
}
